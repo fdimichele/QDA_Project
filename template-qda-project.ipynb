{
 "cells": [
  {
   "attachments": {},
   "cell_type": "markdown",
   "metadata": {},
   "source": [
    "# <span style=\"color:orange\">Quality Data Analysis - Project Work </span>\n",
    "## Team [TEAM NUMBER HERE]\n",
    "\n",
    "### Course Details:\n",
    "- Academic Year: 2022-2023\n",
    "\n",
    "### Project Details:\n",
    "- Title: [ENTER PROJECT TITLE HERE]\n",
    "\n",
    "### Team Members:\n",
    "- [ENTER NAME 1 HERE]\n",
    "- [ENTER NAME 2 HERE]\n",
    "- [ENTER NAME 3 HERE]\n",
    "- [ENTER NAME 4 HERE]\n",
    "\n",
    "### Instructor:\n",
    "- [ENTER INSTRUCTOR NAME HERE]"
   ]
  },
  {
   "attachments": {},
   "cell_type": "markdown",
   "metadata": {},
   "source": [
    "# Instructions\n",
    "- This is a template notebook for the project work.\n",
    "- Please fill in the details above (team members, instructor, etc.)\n",
    "## Report structure\n",
    "Please use the following sections for your project report:\n",
    "- **Introduction** [max 3500 characters including spaces]\n",
    "    - Recap the project work framework and objective\n",
    "    - Briefly summarize the overall methodology you used to achieve your final proposed solution\n",
    "    - Briefly summarize the state-of-the-art you analysed to support your study (if any).\n",
    "- **Assumptions** [max 3500 characters including spaces]\n",
    "    - Clearly state and motivate all the assumptions your proposed methodology relies on. \n",
    "- **Proposed Methodology** [max 10000 characters including spaces]\n",
    "    - Synthetically describe, motivate and critically discuss your proposed methodology, your trade-off analysis and your final solution. \n",
    "- **Results** [max 10000 characters including spaces]\n",
    "    - Briefly present your results. Support your discussion with all the necessary quantitative computations and graphical representations.\n",
    "\n",
    "You can add code cells to any of the above sections to show some code or display images. Each block of code should be accompanied by a brief description of what it does.\n",
    "\n",
    "## Submission\n",
    "- Name your notebook as `teamXX.ipynb` where `XX` is your team number.\n",
    "- Submit your notebook on Webeep by the deadline. "
   ]
  },
  {
   "attachments": {},
   "cell_type": "markdown",
   "metadata": {},
   "source": [
    "# Introduction\n"
   ]
  },
  {
   "attachments": {},
   "cell_type": "markdown",
   "metadata": {},
   "source": [
    "# Assumptions"
   ]
  },
  {
   "attachments": {},
   "cell_type": "markdown",
   "metadata": {},
   "source": [
    "# Proposed Methodology"
   ]
  },
  {
   "attachments": {},
   "cell_type": "markdown",
   "metadata": {},
   "source": [
    "# Results"
   ]
  },
  {
   "attachments": {},
   "cell_type": "markdown",
   "metadata": {},
   "source": [
    "# References (if any)"
   ]
  }
 ],
 "metadata": {
  "language_info": {
   "name": "python"
  },
  "orig_nbformat": 4
 },
 "nbformat": 4,
 "nbformat_minor": 2
}
